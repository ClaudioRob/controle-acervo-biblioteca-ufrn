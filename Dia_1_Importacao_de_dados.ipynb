{
  "nbformat": 4,
  "nbformat_minor": 0,
  "metadata": {
    "colab": {
      "provenance": [],
      "authorship_tag": "ABX9TyPhpMamA+SN43RG/HGt40Qh",
      "include_colab_link": true
    },
    "kernelspec": {
      "name": "python3",
      "display_name": "Python 3"
    },
    "language_info": {
      "name": "python"
    }
  },
  "cells": [
    {
      "cell_type": "markdown",
      "metadata": {
        "id": "view-in-github",
        "colab_type": "text"
      },
      "source": [
        "<a href=\"https://colab.research.google.com/github/ClaudioRob/controle-acervo-biblioteca-ufrn/blob/main/Dia_1_Importacao_de_dados.ipynb\" target=\"_parent\"><img src=\"https://colab.research.google.com/assets/colab-badge.svg\" alt=\"Open In Colab\"/></a>"
      ]
    },
    {
      "cell_type": "markdown",
      "source": [
        "Dados do Acervo - Empréstimos"
      ],
      "metadata": {
        "id": "OAGflU_u8AzF"
      }
    },
    {
      "cell_type": "code",
      "source": [
        "import requests\n",
        "import pandas as pd"
      ],
      "metadata": {
        "id": "lDqnWRCB1Vpp"
      },
      "execution_count": 1,
      "outputs": []
    },
    {
      "cell_type": "code",
      "source": [
        "# URL base do repositório no GitHub\n",
        "api_url = \"https://api.github.com/repos/FranciscoFoz/7_Days_of_Code_Alura-Python-Pandas/contents/Dia_1-Importando_dados/Datasets/dados_emprestimos\""
      ],
      "metadata": {
        "id": "BbeHCg4H1XmM"
      },
      "execution_count": 2,
      "outputs": []
    },
    {
      "cell_type": "code",
      "source": [
        "# Obter a lista de arquivos no diretório\n",
        "response = requests.get(api_url)\n",
        "files = response.json()"
      ],
      "metadata": {
        "id": "X4dQ15Lv1cu4"
      },
      "execution_count": 3,
      "outputs": []
    },
    {
      "cell_type": "code",
      "source": [
        "# Lista para armazenar os DataFrames importados\n",
        "dataframes = []"
      ],
      "metadata": {
        "id": "WQw9WTyA1ggn"
      },
      "execution_count": 4,
      "outputs": []
    },
    {
      "cell_type": "code",
      "source": [
        "# Filtrar e ler arquivos CSV\n",
        "for file in files:\n",
        "    if file['name'].endswith('.csv'):\n",
        "        file_url = file['download_url']\n",
        "        df = pd.read_csv(file_url)\n",
        "        dataframes.append(df)\n",
        "        print(f\"Sucesso ao importar {file['name']}\")"
      ],
      "metadata": {
        "colab": {
          "base_uri": "https://localhost:8080/"
        },
        "id": "j43yCDuL1kg5",
        "outputId": "71e07ce9-1bae-4043-dfba-49976a7141fc"
      },
      "execution_count": 5,
      "outputs": [
        {
          "output_type": "stream",
          "name": "stdout",
          "text": [
            "Sucesso ao importar emprestimos-20101.csv\n",
            "Sucesso ao importar emprestimos-20102.csv\n",
            "Sucesso ao importar emprestimos-20111.csv\n",
            "Sucesso ao importar emprestimos-20112.csv\n",
            "Sucesso ao importar emprestimos-20121.csv\n",
            "Sucesso ao importar emprestimos-20122.csv\n",
            "Sucesso ao importar emprestimos-20131.csv\n",
            "Sucesso ao importar emprestimos-20132.csv\n",
            "Sucesso ao importar emprestimos-20141.csv\n",
            "Sucesso ao importar emprestimos-20142.csv\n",
            "Sucesso ao importar emprestimos-20151.csv\n",
            "Sucesso ao importar emprestimos-20152.csv\n",
            "Sucesso ao importar emprestimos-20161.csv\n",
            "Sucesso ao importar emprestimos-20162.csv\n",
            "Sucesso ao importar emprestimos-20171.csv\n",
            "Sucesso ao importar emprestimos-20172.csv\n",
            "Sucesso ao importar emprestimos-20181.csv\n",
            "Sucesso ao importar emprestimos-20182.csv\n",
            "Sucesso ao importar emprestimos-20191.csv\n",
            "Sucesso ao importar emprestimos-20192.csv\n",
            "Sucesso ao importar emprestimos-20201.csv\n"
          ]
        }
      ]
    },
    {
      "cell_type": "markdown",
      "source": [
        "Concatenando Datafremes"
      ],
      "metadata": {
        "id": "xGYAHUdYyPCL"
      }
    },
    {
      "cell_type": "code",
      "source": [
        "# Concatenar todos os DataFrames em um único DataFrame\n",
        "emprestimos = pd.concat(dataframes, ignore_index=True)"
      ],
      "metadata": {
        "id": "gtLreU3CxpBv"
      },
      "execution_count": 6,
      "outputs": []
    },
    {
      "cell_type": "markdown",
      "source": [
        "Total de Registros"
      ],
      "metadata": {
        "id": "bCRmsSCLxqqt"
      }
    },
    {
      "cell_type": "code",
      "source": [
        "# Contar o número total de registros\n",
        "total_registros = emprestimos.shape[0]\n",
        "print(f\"Número total de registros no DataFrame concatenado: {total_registros}\")"
      ],
      "metadata": {
        "colab": {
          "base_uri": "https://localhost:8080/"
        },
        "id": "bOJ71XczyXrN",
        "outputId": "d041328b-4351-41ef-9a8e-e6ab31285c0d"
      },
      "execution_count": 7,
      "outputs": [
        {
          "output_type": "stream",
          "name": "stdout",
          "text": [
            "Número total de registros no DataFrame concatenado: 2258018\n"
          ]
        }
      ]
    },
    {
      "cell_type": "code",
      "source": [
        "# Exibir os primeiros registros do DataFrame concatenado para verificação\n",
        "print(\"DataFrame concatenado a partir dos CSVs:\")\n",
        "print(emprestimos.head())"
      ],
      "metadata": {
        "colab": {
          "base_uri": "https://localhost:8080/"
        },
        "id": "z4yH7L_vyDTq",
        "outputId": "bee2a6cb-7be0-4adb-947a-8aaeb9c43ecb"
      },
      "execution_count": 8,
      "outputs": [
        {
          "output_type": "stream",
          "name": "stdout",
          "text": [
            "DataFrame concatenado a partir dos CSVs:\n",
            "   id_emprestimo codigo_barras                 data_renovacao  \\\n",
            "0         709684       L095049                            NaN   \n",
            "1         709685       L167050                            NaN   \n",
            "2         709686    2006017618  2010/01/26 08:07:01.738000000   \n",
            "3         709687       L184117  2010/01/18 11:07:46.470000000   \n",
            "4         709684       L095049                            NaN   \n",
            "\n",
            "                 data_emprestimo                 data_devolucao  \\\n",
            "0  2010/01/04 07:44:10.721000000  2010/01/05 16:26:12.662000000   \n",
            "1  2010/01/04 07:44:10.750000000  2010/01/12 07:34:13.934000000   \n",
            "2  2010/01/04 08:08:44.081000000  2010/02/25 07:36:25.800000000   \n",
            "3  2010/01/04 08:24:21.284000000  2010/02/03 08:58:45.692000000   \n",
            "4  2010/01/04 07:44:10.721000000  2010/01/05 16:26:12.662000000   \n",
            "\n",
            "   matricula_ou_siape    tipo_vinculo_usuario  \n",
            "0        2.008023e+09      ALUNO DE GRADUAÇÃO  \n",
            "1        2.008023e+09      ALUNO DE GRADUAÇÃO  \n",
            "2        2.008112e+09  ALUNO DE PÓS-GRADUAÇÃO  \n",
            "3        2.007211e+08      ALUNO DE GRADUAÇÃO  \n",
            "4        2.008023e+09      ALUNO DE GRADUAÇÃO  \n"
          ]
        }
      ]
    },
    {
      "cell_type": "markdown",
      "source": [
        "Verificando Duplicatas"
      ],
      "metadata": {
        "id": "5Zul4J2dg-lX"
      }
    },
    {
      "cell_type": "code",
      "source": [
        "# Verificar duplicatas\n",
        "duplicates = emprestimos.duplicated()\n",
        "print(f\"Número de duplicatas nos CSVs: {duplicates.sum()}\")"
      ],
      "metadata": {
        "colab": {
          "base_uri": "https://localhost:8080/"
        },
        "id": "8roUTGEA3jKt",
        "outputId": "a722be47-3b6c-4f78-8ab4-d0eeb243b242"
      },
      "execution_count": 9,
      "outputs": [
        {
          "output_type": "stream",
          "name": "stdout",
          "text": [
            "Número de duplicatas nos CSVs: 37\n"
          ]
        }
      ]
    },
    {
      "cell_type": "markdown",
      "source": [
        "Removendo Duplicatas"
      ],
      "metadata": {
        "id": "IDKKUwrkw4GG"
      }
    },
    {
      "cell_type": "code",
      "source": [
        "# Verificar duplicatas e remover duplicatas se necessário\n",
        "emprestimos = emprestimos.drop_duplicates()"
      ],
      "metadata": {
        "id": "WnsfDoEmA2bk"
      },
      "execution_count": 10,
      "outputs": []
    },
    {
      "cell_type": "markdown",
      "source": [
        "Validando exclusao de registros duplicados"
      ],
      "metadata": {
        "id": "3Aeck6XN0UIn"
      }
    },
    {
      "cell_type": "code",
      "source": [
        "# Verificar duplicatas\n",
        "duplicates = emprestimos.duplicated()\n",
        "print(f\"Número de duplicatas nos CSVs: {duplicates.sum()}\")"
      ],
      "metadata": {
        "colab": {
          "base_uri": "https://localhost:8080/"
        },
        "id": "dS3y5h9r0l9K",
        "outputId": "6c25024f-cf2d-49ae-d0b6-6322a7bda566"
      },
      "execution_count": 11,
      "outputs": [
        {
          "output_type": "stream",
          "name": "stdout",
          "text": [
            "Número de duplicatas nos CSVs: 0\n"
          ]
        }
      ]
    },
    {
      "cell_type": "code",
      "source": [
        "# Verificar a estrutura do DataFrame emprestimos\n",
        "print(\"Estrutura do DataFrame emprestimos:\")\n",
        "print(emprestimos.info())"
      ],
      "metadata": {
        "colab": {
          "base_uri": "https://localhost:8080/"
        },
        "id": "aINP6L6QleM2",
        "outputId": "cdb8c385-2b89-4404-c8a4-c532621f71f2"
      },
      "execution_count": 12,
      "outputs": [
        {
          "output_type": "stream",
          "name": "stdout",
          "text": [
            "Estrutura do DataFrame emprestimos:\n",
            "<class 'pandas.core.frame.DataFrame'>\n",
            "Index: 2257981 entries, 0 to 2258017\n",
            "Data columns (total 7 columns):\n",
            " #   Column                Dtype  \n",
            "---  ------                -----  \n",
            " 0   id_emprestimo         int64  \n",
            " 1   codigo_barras         object \n",
            " 2   data_renovacao        object \n",
            " 3   data_emprestimo       object \n",
            " 4   data_devolucao        object \n",
            " 5   matricula_ou_siape    float64\n",
            " 6   tipo_vinculo_usuario  object \n",
            "dtypes: float64(1), int64(1), object(5)\n",
            "memory usage: 137.8+ MB\n",
            "None\n"
          ]
        }
      ]
    },
    {
      "cell_type": "markdown",
      "source": [
        "Dados do Acervo - Exemplares"
      ],
      "metadata": {
        "id": "LywFr3XA8HXn"
      }
    },
    {
      "cell_type": "code",
      "source": [
        "# Carregar o DataFrame a partir do arquivo Parquet\n",
        "parquet_url = 'https://github.com/FranciscoFoz/7_Days_of_Code_Alura-Python-Pandas/raw/main/Dia_1-Importando_dados/Datasets/dados_exemplares.parquet'\n",
        "exemplares = pd.read_parquet(parquet_url)\n",
        "print(exemplares.head())"
      ],
      "metadata": {
        "colab": {
          "base_uri": "https://localhost:8080/"
        },
        "id": "lmGu4QJw3iXQ",
        "outputId": "8fb0d680-b7ac-4f76-823c-090bab487ce8"
      },
      "execution_count": 13,
      "outputs": [
        {
          "output_type": "stream",
          "name": "stdout",
          "text": [
            "       id_exemplar codigo_barras            colecao  \\\n",
            "index                                                 \n",
            "0                5       L000003  Acervo Circulante   \n",
            "1                4       L000002  Acervo Circulante   \n",
            "2                3       L000001  Acervo Circulante   \n",
            "3                7       L000114  Acervo Circulante   \n",
            "5               10       L000041  Acervo Circulante   \n",
            "\n",
            "                           biblioteca status_material  localizacao  \\\n",
            "index                                                                \n",
            "0      Biblioteca Central Zila Mamede         REGULAR          694   \n",
            "1      Biblioteca Central Zila Mamede         REGULAR          688   \n",
            "2      Biblioteca Central Zila Mamede        ESPECIAL          638   \n",
            "3      Biblioteca Central Zila Mamede         REGULAR          616   \n",
            "5      Biblioteca Central Zila Mamede        ESPECIAL          657   \n",
            "\n",
            "       registro_sistema  \n",
            "index                    \n",
            "0                     1  \n",
            "1                     1  \n",
            "2                     1  \n",
            "3                     5  \n",
            "5                    15  \n"
          ]
        }
      ]
    },
    {
      "cell_type": "markdown",
      "source": [
        "Unindo os Dataframes - Merge"
      ],
      "metadata": {
        "id": "jSu81qFDE1cz"
      }
    },
    {
      "cell_type": "code",
      "source": [
        "# Assegurar que 'codigo_barras' seja uma coluna em ambos os DataFrames\n",
        "if 'codigo_barras' in exemplares.index.names:\n",
        "    exemplares.reset_index(inplace=True)\n",
        "\n",
        "if 'codigo_barras' in emprestimos.index.names:\n",
        "    emprestimos.reset_index(inplace=True)"
      ],
      "metadata": {
        "id": "6Vxc2IbgtNbf"
      },
      "execution_count": 14,
      "outputs": []
    },
    {
      "cell_type": "code",
      "source": [
        "# Mesclar os DataFrames emprestimos e exemplares pela coluna 'codigo_barras'\n",
        "emprestimos_completo = pd.merge(emprestimos, exemplares, on='codigo_barras', how='inner')"
      ],
      "metadata": {
        "id": "fH7RktcBE9me"
      },
      "execution_count": 15,
      "outputs": []
    },
    {
      "cell_type": "code",
      "source": [
        "# Contar o número total de registros no DataFrame final\n",
        "total_registros_final = emprestimos_completo.shape[0]\n",
        "print(f\"Número total de registros no DataFrame final: {total_registros_final}\")"
      ],
      "metadata": {
        "colab": {
          "base_uri": "https://localhost:8080/"
        },
        "id": "rZYjmG1itp6c",
        "outputId": "77cf3036-67d8-4767-c34d-6015e31f82a9"
      },
      "execution_count": 16,
      "outputs": [
        {
          "output_type": "stream",
          "name": "stdout",
          "text": [
            "Número total de registros no DataFrame final: 2072522\n"
          ]
        }
      ]
    }
  ]
}